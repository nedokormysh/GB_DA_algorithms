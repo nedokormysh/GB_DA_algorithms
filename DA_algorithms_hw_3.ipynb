{
  "nbformat": 4,
  "nbformat_minor": 0,
  "metadata": {
    "colab": {
      "name": "DA_algorithms_hw_3.ipynb",
      "provenance": [],
      "collapsed_sections": [],
      "authorship_tag": "ABX9TyODtPoKJI40QX+b0c+pZh7N",
      "include_colab_link": true
    },
    "kernelspec": {
      "name": "python3",
      "display_name": "Python 3"
    },
    "language_info": {
      "name": "python"
    }
  },
  "cells": [
    {
      "cell_type": "markdown",
      "metadata": {
        "id": "view-in-github",
        "colab_type": "text"
      },
      "source": [
        "<a href=\"https://colab.research.google.com/github/nedokormysh/GB_DA_algorithms/blob/lesson3/DA_algorithms_hw_3.ipynb\" target=\"_parent\"><img src=\"https://colab.research.google.com/assets/colab-badge.svg\" alt=\"Open In Colab\"/></a>"
      ]
    },
    {
      "cell_type": "code",
      "execution_count": null,
      "metadata": {
        "id": "pwc5yRTf-wyO"
      },
      "outputs": [],
      "source": [
        "import numpy as np\n",
        "import matplotlib.pyplot as plt"
      ]
    },
    {
      "cell_type": "code",
      "source": [
        "X = np.array([[1, 1, 1, 1, 1, 1, 1, 1, 1, 1],\n",
        "              [1, 1, 2, 5, 3, 0, 5, 10, 1, 2],\n",
        "              [500, 700, 750, 600, 1450, 800, 1500, 2000, 450, 1000],\n",
        "              [1, 1, 2, 1, 2,  1, 3, 3, 1, 2]], dtype = np.float64)\n",
        "y = np.array([0, 0, 1, 0, 1, 0, 1, 0, 1, 1], dtype = np.float64)"
      ],
      "metadata": {
        "id": "ignraOOW-9Pb"
      },
      "execution_count": null,
      "outputs": []
    },
    {
      "cell_type": "code",
      "source": [
        "X"
      ],
      "metadata": {
        "colab": {
          "base_uri": "https://localhost:8080/"
        },
        "id": "MdOs1GUe-_g9",
        "outputId": "e39c7042-0a17-480b-db5d-79b8c5633f64"
      },
      "execution_count": null,
      "outputs": [
        {
          "output_type": "execute_result",
          "data": {
            "text/plain": [
              "array([[1.00e+00, 1.00e+00, 1.00e+00, 1.00e+00, 1.00e+00, 1.00e+00,\n",
              "        1.00e+00, 1.00e+00, 1.00e+00, 1.00e+00],\n",
              "       [1.00e+00, 1.00e+00, 2.00e+00, 5.00e+00, 3.00e+00, 0.00e+00,\n",
              "        5.00e+00, 1.00e+01, 1.00e+00, 2.00e+00],\n",
              "       [5.00e+02, 7.00e+02, 7.50e+02, 6.00e+02, 1.45e+03, 8.00e+02,\n",
              "        1.50e+03, 2.00e+03, 4.50e+02, 1.00e+03],\n",
              "       [1.00e+00, 1.00e+00, 2.00e+00, 1.00e+00, 2.00e+00, 1.00e+00,\n",
              "        3.00e+00, 3.00e+00, 1.00e+00, 2.00e+00]])"
            ]
          },
          "metadata": {},
          "execution_count": 76
        }
      ]
    },
    {
      "cell_type": "code",
      "source": [
        "y"
      ],
      "metadata": {
        "colab": {
          "base_uri": "https://localhost:8080/"
        },
        "id": "ZR5bndzV_CC4",
        "outputId": "8a6475ac-a5fd-4422-c694-c889a30feb1d"
      },
      "execution_count": null,
      "outputs": [
        {
          "output_type": "execute_result",
          "data": {
            "text/plain": [
              "array([0., 0., 1., 0., 1., 0., 1., 0., 1., 1.])"
            ]
          },
          "metadata": {},
          "execution_count": 77
        }
      ]
    },
    {
      "cell_type": "code",
      "source": [
        "def calc_std_feat(x):\n",
        "    res = (x - x.mean()) / x.std()\n",
        "    return res"
      ],
      "metadata": {
        "id": "H3b0U4A0_F3_"
      },
      "execution_count": null,
      "outputs": []
    },
    {
      "cell_type": "code",
      "source": [
        "X_st1 = X.copy()\n",
        "X_st1[2, :]"
      ],
      "metadata": {
        "colab": {
          "base_uri": "https://localhost:8080/"
        },
        "id": "XOYgzTgO_V3g",
        "outputId": "9de106e0-e3c4-4d65-c373-30ac82aa295f"
      },
      "execution_count": null,
      "outputs": [
        {
          "output_type": "execute_result",
          "data": {
            "text/plain": [
              "array([ 500.,  700.,  750.,  600., 1450.,  800., 1500., 2000.,  450.,\n",
              "       1000.])"
            ]
          },
          "metadata": {},
          "execution_count": 79
        }
      ]
    },
    {
      "cell_type": "code",
      "source": [
        "X_st = X.copy()\n",
        "X_st[2, :] = calc_std_feat(X[2, :])"
      ],
      "metadata": {
        "id": "ZE3gm3WE_JvC"
      },
      "execution_count": null,
      "outputs": []
    },
    {
      "cell_type": "code",
      "source": [
        "X_st"
      ],
      "metadata": {
        "colab": {
          "base_uri": "https://localhost:8080/"
        },
        "id": "pPr8kENk_NFj",
        "outputId": "1fe97df4-d4e9-44b6-b22f-4ec1a5713136"
      },
      "execution_count": null,
      "outputs": [
        {
          "output_type": "execute_result",
          "data": {
            "text/plain": [
              "array([[ 1.        ,  1.        ,  1.        ,  1.        ,  1.        ,\n",
              "         1.        ,  1.        ,  1.        ,  1.        ,  1.        ],\n",
              "       [ 1.        ,  1.        ,  2.        ,  5.        ,  3.        ,\n",
              "         0.        ,  5.        , 10.        ,  1.        ,  2.        ],\n",
              "       [-0.97958969, -0.56713087, -0.46401617, -0.77336028,  0.97958969,\n",
              "        -0.36090146,  1.08270439,  2.11385144, -1.08270439,  0.05155735],\n",
              "       [ 1.        ,  1.        ,  2.        ,  1.        ,  2.        ,\n",
              "         1.        ,  3.        ,  3.        ,  1.        ,  2.        ]])"
            ]
          },
          "metadata": {},
          "execution_count": 81
        }
      ]
    },
    {
      "cell_type": "code",
      "source": [
        "def calc_logloss(y, y_pred):\n",
        "    err = - np.mean(y * np.log(y_pred) + (1.0 - y) * np.log(1.0 - y_pred))\n",
        "    err = np.sum(err)\n",
        "    return err"
      ],
      "metadata": {
        "id": "Y3THzbD1BF6p"
      },
      "execution_count": null,
      "outputs": []
    },
    {
      "cell_type": "code",
      "source": [
        "def sigmoid(z):\n",
        "    res = 1 / (1 + np.exp(-z))\n",
        "    return res"
      ],
      "metadata": {
        "id": "LLjw-05zGKvR"
      },
      "execution_count": null,
      "outputs": []
    },
    {
      "cell_type": "code",
      "source": [
        "z = np.linspace(-10, 10, 101)\n",
        "\n",
        "probabilities = sigmoid(z)\n",
        "\n",
        "plt.plot(z, probabilities)\n",
        "plt.show()"
      ],
      "metadata": {
        "colab": {
          "base_uri": "https://localhost:8080/",
          "height": 265
        },
        "id": "zzQY_joRGQN9",
        "outputId": "8db02b68-6c8a-4b81-f4d2-e93071f6f32e"
      },
      "execution_count": null,
      "outputs": [
        {
          "output_type": "display_data",
          "data": {
            "text/plain": [
              "<Figure size 432x288 with 1 Axes>"
            ],
            "image/png": "[encoded data removed]"
          },
          "metadata": {
            "needs_background": "light"
          }
        }
      ]
    },
    {
      "cell_type": "code",
      "source": [
        "def eval_model(X, y, iterations, alpha=1e-4):\n",
        "    np.random.seed(42)\n",
        "    W = np.random.randn(X.shape[0])\n",
        "    n = X.shape[1]\n",
        "    for i in range(1, iterations+1):\n",
        "        z = np.dot(W, X)\n",
        "        y_pred = sigmoid(z)\n",
        "        err = calc_logloss(y, y_pred)\n",
        "        W -= alpha * (1/n * np.dot((y_pred - y), X.T))\n",
        "        if i % (iterations / 10) == 0:\n",
        "            print(i, W, err)\n",
        "    return W"
      ],
      "metadata": {
        "id": "LEAjoKYdGdw1"
      },
      "execution_count": null,
      "outputs": []
    },
    {
      "cell_type": "markdown",
      "source": [
        "**Задание 1.**\n",
        "\n",
        "Измените функцию calc_logloss так, чтобы нули по возможности не попадали в np.log."
      ],
      "metadata": {
        "id": "f6cOOgFm-2Of"
      }
    },
    {
      "cell_type": "markdown",
      "source": [
        "Будем подавать не ноль, не допуская ошибок в вычислении программы, а некое малое число."
      ],
      "metadata": {
        "id": "9tBoRIr5Jldw"
      }
    },
    {
      "cell_type": "code",
      "source": [
        "def calc_logloss_x(y, y_pred):\n",
        "    # y_pred = [1e-18 if el == 0 else el for el in y_pred] \n",
        "    \n",
        "    y_pred = np.where(y_pred == 0, 1e-18, y_pred)\n",
        "    # print(y_pred)\n",
        "    err = - np.mean(y * np.log(y_pred) + (1.0 - y) * np.log(1.0 - y_pred))\n",
        "    err = np.sum(err)\n",
        "    return err"
      ],
      "metadata": {
        "id": "4I9TAc6VCMdH"
      },
      "execution_count": null,
      "outputs": []
    },
    {
      "cell_type": "markdown",
      "source": [
        "# Задание 2.\n",
        "\n",
        "Подберите аргументы функции eval_model для логистической регрессии таким образом, чтобы log loss был минимальным."
      ],
      "metadata": {
        "id": "hMhJ5KGrF-gS"
      }
    },
    {
      "cell_type": "code",
      "source": [
        "# alphas = [0.1, 0.01, 0.001, 0.0001,  0.00001]\n",
        "alphas = np.logspace(-1, -8, 7)\n",
        "\n",
        "iterations = np.linspace(1e3, 1e4, 5)\n",
        "iterations\n",
        "\n",
        "alphas = np.logspace(-2, -8, 7)"
      ],
      "metadata": {
        "id": "vPxOJoz6G8DS"
      },
      "execution_count": null,
      "outputs": []
    },
    {
      "cell_type": "code",
      "source": [
        "# потребуется возвращать и ошибки\n",
        "def eval_model(X, y, iterations, alpha=1e-4):\n",
        "    np.random.seed(42)\n",
        "    W = np.random.randn(X.shape[0])\n",
        "    n = X.shape[1]\n",
        "    for i in range(1, iterations+1):\n",
        "        z = np.dot(W, X)\n",
        "        y_pred = sigmoid(z)\n",
        "        err = calc_logloss(y, y_pred)\n",
        "        W -= alpha * (1/n * np.dot((y_pred - y), X.T))\n",
        "        if i % (iterations / 10) == 0:\n",
        "            # print(i, W, err)\n",
        "            pass\n",
        "    return W, err"
      ],
      "metadata": {
        "id": "f2bEMCQ_J9p4"
      },
      "execution_count": null,
      "outputs": []
    },
    {
      "cell_type": "code",
      "source": [
        "iterations = np.linspace(1e3, 1e4, 5)\n",
        "alphas = np.logspace(-1, -8, 7)\n",
        "\n",
        "def find_log_loss_min(alphas, iterations, visual=False):\n",
        "  min_err = np.inf\n",
        "  weights = 0\n",
        "\n",
        "  for al in alphas:\n",
        "    for it in iterations:    \n",
        "      non, err = eval_model(X_st, y, iterations=int(it), alpha=al)\n",
        "      if visual == True:\n",
        "        print(f'При alpha: {al} и количестве итераций iterations: {it} logloss = {err}')\n",
        "      if err < min_err:\n",
        "        min_err = err\n",
        "        weights = (it, al)\n",
        "\n",
        "  print(f'\\nМинимальное значение LogLoss {round(min_err, 4)} достигается при значениях iterations = {weights[0]} и alpha = {weights[1]}')\n",
        "\n",
        "find_log_loss_min(alphas, iterations, visual=True)"
      ],
      "metadata": {
        "colab": {
          "base_uri": "https://localhost:8080/"
        },
        "id": "8YlbxNLlJelf",
        "outputId": "e125f8dd-2a82-404f-c884-cb48e3b197e1"
      },
      "execution_count": null,
      "outputs": [
        {
          "output_type": "stream",
          "name": "stdout",
          "text": [
            "При alpha: 0.1 и количестве итераций iterations: 1000.0 logloss = 0.3754024229306204\n",
            "При alpha: 0.1 и количестве итераций iterations: 3250.0 logloss = 0.2949696719697402\n",
            "При alpha: 0.1 и количестве итераций iterations: 5500.0 logloss = 0.2645247287370077\n",
            "При alpha: 0.1 и количестве итераций iterations: 7750.0 logloss = 0.24591559530770243\n",
            "При alpha: 0.1 и количестве итераций iterations: 10000.0 logloss = 0.23214418399379286\n",
            "При alpha: 0.006812920690579608 и количестве итераций iterations: 1000.0 logloss = 0.48482880702859427\n",
            "При alpha: 0.006812920690579608 и количестве итераций iterations: 3250.0 logloss = 0.4537045732305686\n",
            "При alpha: 0.006812920690579608 и количестве итераций iterations: 5500.0 logloss = 0.4325185673573489\n",
            "При alpha: 0.006812920690579608 и количестве итераций iterations: 7750.0 logloss = 0.4152309297039424\n",
            "При alpha: 0.006812920690579608 и количестве итераций iterations: 10000.0 logloss = 0.40042629599220875\n",
            "При alpha: 0.00046415888336127773 и количестве итераций iterations: 1000.0 logloss = 0.561766574418225\n",
            "При alpha: 0.00046415888336127773 и количестве итераций iterations: 3250.0 logloss = 0.5132056582995332\n",
            "При alpha: 0.00046415888336127773 и количестве итераций iterations: 5500.0 logloss = 0.5039922311578403\n",
            "При alpha: 0.00046415888336127773 и количестве итераций iterations: 7750.0 logloss = 0.49743996936289137\n",
            "При alpha: 0.00046415888336127773 и количестве итераций iterations: 10000.0 logloss = 0.4924693054247443\n",
            "При alpha: 3.1622776601683795e-05 и количестве итераций iterations: 1000.0 logloss = 1.0996219212749052\n",
            "При alpha: 3.1622776601683795e-05 и количестве итераций iterations: 3250.0 logloss = 0.9393164213488436\n",
            "При alpha: 3.1622776601683795e-05 и количестве итераций iterations: 5500.0 logloss = 0.8062457164565817\n",
            "При alpha: 3.1622776601683795e-05 и количестве итераций iterations: 7750.0 logloss = 0.7039475227779755\n",
            "При alpha: 3.1622776601683795e-05 и количестве итераций iterations: 10000.0 logloss = 0.633360256111283\n",
            "При alpha: 2.1544346900318822e-06 и количестве итераций iterations: 1000.0 logloss = 1.1730740153926598\n",
            "При alpha: 2.1544346900318822e-06 и количестве итераций iterations: 3250.0 logloss = 1.16071174076609\n",
            "При alpha: 2.1544346900318822e-06 и количестве итераций iterations: 5500.0 logloss = 1.1484533290610286\n",
            "При alpha: 2.1544346900318822e-06 и количестве итераций iterations: 7750.0 logloss = 1.1363000112771589\n",
            "При alpha: 2.1544346900318822e-06 и количестве итераций iterations: 10000.0 logloss = 1.1242529988370829\n",
            "При alpha: 1.4677992676220674e-07 и количестве итераций iterations: 1000.0 logloss = 1.1782189977271573\n",
            "При alpha: 1.4677992676220674e-07 и количестве итераций iterations: 3250.0 logloss = 1.1773706085814064\n",
            "При alpha: 1.4677992676220674e-07 и количестве итераций iterations: 5500.0 logloss = 1.1765226936956161\n",
            "При alpha: 1.4677992676220674e-07 и количестве итераций iterations: 7750.0 logloss = 1.175675253470748\n",
            "При alpha: 1.4677992676220674e-07 и количестве итераций iterations: 10000.0 logloss = 1.1748282883073093\n",
            "При alpha: 1e-08 и количестве итераций iterations: 1000.0 logloss = 1.178570157886411\n",
            "При alpha: 1e-08 и количестве итераций iterations: 3250.0 logloss = 1.1785123294080833\n",
            "При alpha: 1e-08 и количестве итераций iterations: 5500.0 logloss = 1.1784545031285707\n",
            "При alpha: 1e-08 и количестве итераций iterations: 7750.0 logloss = 1.1783966790479914\n",
            "При alpha: 1e-08 и количестве итераций iterations: 10000.0 logloss = 1.1783388571664828\n",
            "\n",
            "Минимальное значение LogLoss 0.2321 достигается при значениях iterations = 10000.0 и alpha = 0.1\n"
          ]
        }
      ]
    },
    {
      "cell_type": "markdown",
      "source": [
        "# Задание 3.\n",
        "\n",
        "Создайте функцию calc_pred_proba, возвращающую предсказанную вероятность класса 1. На вход подаётся W, который уже посчитан функцией eval_model, и X, на выходе — массив y_pred_proba."
      ],
      "metadata": {
        "id": "RHAk-ETHMVpV"
      }
    },
    {
      "cell_type": "code",
      "source": [
        "def calc_pred_proba(X, W):\n",
        "    z = np.dot(X, W)\n",
        "    # y_pred_proba = 1 / (1 + np.exp(-z))\n",
        "    y_pred_proba = sigmoid(z)\n",
        "    return y_pred_proba"
      ],
      "metadata": {
        "id": "jTRdQsGpMaFA"
      },
      "execution_count": null,
      "outputs": []
    },
    {
      "cell_type": "code",
      "source": [
        "W = eval_model(X_st, y, iterations=10000, alpha=0.1)[0]\n",
        "calc_pred_proba(W, X_st)"
      ],
      "metadata": {
        "colab": {
          "base_uri": "https://localhost:8080/"
        },
        "id": "U6q9XXsaONoI",
        "outputId": "f49f2ea0-1fd8-4035-9e1d-a962db0de7c7"
      },
      "execution_count": null,
      "outputs": [
        {
          "output_type": "execute_result",
          "data": {
            "text/plain": [
              "array([0.34909794, 0.16499718, 0.99721038, 0.00128184, 0.73112245,\n",
              "       0.32370941, 0.99918939, 0.0911856 , 0.40772414, 0.99034837])"
            ]
          },
          "metadata": {},
          "execution_count": 117
        }
      ]
    },
    {
      "cell_type": "markdown",
      "source": [
        "# Задание 4.\n",
        "\n",
        "Создайте функцию calc_pred, возвращающую предсказанный класс. На вход подаётся W, который уже посчитан функцией eval_model, и X, на выходе — массив y_pred."
      ],
      "metadata": {
        "id": "14anbiyQOX_m"
      }
    },
    {
      "cell_type": "code",
      "source": [
        "def calc_pred(X, W, threshold=0.5):\n",
        "    y_pred_proba = calc_pred_proba(X, W)\n",
        "    y_pred = np.where(y_pred_proba > threshold, 1, 0)\n",
        "    # y_pred = [1 if x > 0.5 else 0 for x in y_pred_proba] \n",
        "    return y_pred"
      ],
      "metadata": {
        "id": "-cKFuMJUOb9K"
      },
      "execution_count": null,
      "outputs": []
    },
    {
      "cell_type": "code",
      "source": [
        "y_pred = calc_pred(W, X_st)\n",
        "y_pred"
      ],
      "metadata": {
        "colab": {
          "base_uri": "https://localhost:8080/"
        },
        "id": "c9vyOoHsPq3i",
        "outputId": "fc66e900-3383-4f91-9f4c-62f0f75369ce"
      },
      "execution_count": null,
      "outputs": [
        {
          "output_type": "execute_result",
          "data": {
            "text/plain": [
              "array([0, 0, 1, 0, 1, 0, 1, 0, 0, 1])"
            ]
          },
          "metadata": {},
          "execution_count": 119
        }
      ]
    },
    {
      "cell_type": "code",
      "source": [
        "# y_pred = calc_pred(X_st, eval_model(X_st, y, iterations=10000, alpha=0.03))\n",
        "# y_pred"
      ],
      "metadata": {
        "id": "QQn-qNAwPYdO"
      },
      "execution_count": null,
      "outputs": []
    },
    {
      "cell_type": "markdown",
      "source": [
        "# Задание 5.\n",
        "\n",
        "Посчитайте Accuracy, матрицу ошибок, точность и полноту, а также F1 score."
      ],
      "metadata": {
        "id": "966RC1Tnq0Hf"
      }
    },
    {
      "cell_type": "code",
      "source": [
        "def accuracy(y_true, y_pred):\n",
        "    acc = (y_pred == y_true).mean()\n",
        "    return acc"
      ],
      "metadata": {
        "id": "nS1QZJLaDRam"
      },
      "execution_count": null,
      "outputs": []
    },
    {
      "cell_type": "code",
      "source": [
        "accuracy(y, y_pred)"
      ],
      "metadata": {
        "colab": {
          "base_uri": "https://localhost:8080/"
        },
        "id": "UNNNJox-8h8h",
        "outputId": "0d824180-77e9-4669-e410-856942284186"
      },
      "execution_count": null,
      "outputs": [
        {
          "output_type": "execute_result",
          "data": {
            "text/plain": [
              "0.9"
            ]
          },
          "metadata": {},
          "execution_count": 137
        }
      ]
    },
    {
      "cell_type": "code",
      "source": [
        "def class_error(y_true, y_pred, visual=False):\n",
        "    TP = (y * y_pred).sum()\n",
        "    TN = ((y_pred + y) == 0).sum()\n",
        "    FN = ((y * y_pred) != y).sum()\n",
        "    FP = ((y * y_pred) != y_pred).sum()\n",
        "\n",
        "    if(visual):\n",
        "      print(f'TP = {TP}, TN = {TN}, FN = {FN}, FP = {FP}')\n",
        "\n",
        "    return TP, TN, FN, FP\n",
        "\n",
        "def error_matrix(y_true, y_pred):\n",
        "  TP, TN, FN, FP = class_error(y_true, y_pred, visual=True)\n",
        "  matrix = np.array([[TP, FP], [FN, TN]])\n",
        "  return matrix\n",
        "\n",
        "print(f'\\nМатрица ошибок: \\n{error_matrix(y, y_pred)}')"
      ],
      "metadata": {
        "colab": {
          "base_uri": "https://localhost:8080/"
        },
        "id": "es6aiF_88_dU",
        "outputId": "802c4eca-61b9-432c-e86e-99f11d13e948"
      },
      "execution_count": null,
      "outputs": [
        {
          "output_type": "stream",
          "name": "stdout",
          "text": [
            "TP = 4.0, TN = 5, FN = 1, FP = 0\n",
            "\n",
            "Матрица ошибок: \n",
            "[[4. 0.]\n",
            " [1. 5.]]\n"
          ]
        }
      ]
    },
    {
      "cell_type": "code",
      "source": [
        "def precision(y_true, y_pred):\n",
        "    TP, TN, FN, FP = class_error(y_true, y_pred)\n",
        "    return TP / (TP + FP)\n",
        "\n",
        "print(f'Precision = {precision(y, y_pred)}')"
      ],
      "metadata": {
        "colab": {
          "base_uri": "https://localhost:8080/"
        },
        "id": "_mwwGrN0GloY",
        "outputId": "1cc38d2a-f527-432c-bdb8-19d13f62b833"
      },
      "execution_count": null,
      "outputs": [
        {
          "output_type": "stream",
          "name": "stdout",
          "text": [
            "TP = 4.0, TN = 5, FN = 1, FP = 0\n",
            "Precision = 1.0\n"
          ]
        }
      ]
    },
    {
      "cell_type": "code",
      "source": [
        "def recall(y_true, y_pred):\n",
        "    TP, TN, FN, FP = class_error(y_true, y_pred)\n",
        "    return TP / (TP + FN)\n",
        "\n",
        "print(f'Recall = {recall(y, y_pred)}')"
      ],
      "metadata": {
        "colab": {
          "base_uri": "https://localhost:8080/"
        },
        "id": "3GtcUZm4HDc3",
        "outputId": "7c4046c9-8b7c-4329-b47f-261b85d649f2"
      },
      "execution_count": null,
      "outputs": [
        {
          "output_type": "stream",
          "name": "stdout",
          "text": [
            "TP = 4.0, TN = 5, FN = 1, FP = 0\n",
            "Recall = 0.8\n"
          ]
        }
      ]
    },
    {
      "cell_type": "code",
      "source": [
        "def f1score(y_true, y_pred):\n",
        "    p = precision(y, y_pred)    \n",
        "    r = recall(y, y_pred)    \n",
        "    return(2 * p * r) / (p + r)\n",
        "\n",
        "print(f'f1score = {round(f1score(y, y_pred), 4)}')"
      ],
      "metadata": {
        "colab": {
          "base_uri": "https://localhost:8080/"
        },
        "id": "LHoKeoDbHtLN",
        "outputId": "e809edfa-a208-45b9-95e6-ec66d5809efc"
      },
      "execution_count": null,
      "outputs": [
        {
          "output_type": "stream",
          "name": "stdout",
          "text": [
            "f1score = 0.8889\n"
          ]
        }
      ]
    },
    {
      "cell_type": "markdown",
      "source": [
        "# Задание 6.\n",
        "\n",
        "Могла ли модель переобучиться? Почему?"
      ],
      "metadata": {
        "id": "XXHzEtgkIkq8"
      }
    },
    {
      "cell_type": "markdown",
      "source": [
        "Модель могла переобучиться. Мы не рассматривали разбиение на обучающую и тестовую выборку. Но мы подбирали гиперпараметры минимизируя ошибку. И модель могла переобучиться на данном количестве примеров. "
      ],
      "metadata": {
        "id": "xHApf-AHIoSM"
      }
    }
  ]
}