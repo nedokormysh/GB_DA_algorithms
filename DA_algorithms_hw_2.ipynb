{
  "cells": [
    {
      "cell_type": "markdown",
      "metadata": {
        "id": "view-in-github",
        "colab_type": "text"
      },
      "source": [
        "<a href=\"https://colab.research.google.com/github/nedokormysh/GB_DA_algorithms/blob/lesson2/DA_algorithms_hw_2.ipynb\" target=\"_parent\"><img src=\"https://colab.research.google.com/assets/colab-badge.svg\" alt=\"Open In Colab\"/></a>"
      ]
    },
    {
      "cell_type": "markdown",
      "metadata": {
        "id": "Syd-A_5rMLWK"
      },
      "source": [
        "# Задание 1.\n",
        "\n",
        "Сгенерировать датасет при помощи sklearn.datasets.make_regression и обучить линейную модель при помощи градиентного и стохастического градиентного спуска. Нанести среднеквадратичную ошибку для обоих методов на один график, сделать выводы о разнице скорости сходимости каждого из методов."
      ]
    },
    {
      "cell_type": "code",
      "execution_count": null,
      "metadata": {
        "id": "GxxJIA9zMJpd"
      },
      "outputs": [],
      "source": [
        "import numpy as np\n",
        "from sklearn import datasets\n",
        "from sklearn.preprocessing import StandardScaler\n",
        "from sklearn.linear_model import LinearRegression\n",
        "import matplotlib.pyplot as plt\n",
        "\n",
        "%matplotlib inline"
      ]
    },
    {
      "cell_type": "code",
      "execution_count": null,
      "metadata": {
        "id": "7f4i5kyrMV_d"
      },
      "outputs": [],
      "source": [
        "# сгенерируем набор данных\n",
        "data, target, coef = datasets.make_regression(n_samples=1000, n_features = 2, n_informative = 2, n_targets = 1, \n",
        "                                              noise = 5, coef = True, random_state = 2)\n",
        "# print(data)\n",
        "data[:,0] = data[:,0] * 10"
      ]
    },
    {
      "cell_type": "code",
      "execution_count": null,
      "metadata": {
        "id": "ZEiS5Ssz_gqY",
        "outputId": "6a81bf6c-9bc0-4980-d5fe-b6dc39f8a8f8"
      },
      "outputs": [
        {
          "name": "stdout",
          "output_type": "stream",
          "text": [
            "[62.6735955 68.0472182]\n"
          ]
        }
      ],
      "source": [
        "print(coef)"
      ]
    },
    {
      "cell_type": "code",
      "execution_count": null,
      "metadata": {
        "id": "ldMlXNZMfHr0"
      },
      "outputs": [],
      "source": [
        "# реализуем функцию, определяющую среднеквадратичную ошибку\n",
        "def mserror(X, w, y_pred):\n",
        "    y = X.dot(w)\n",
        "    return (sum((y - y_pred)**2)) / len(y)"
      ]
    },
    {
      "cell_type": "markdown",
      "metadata": {
        "id": "ATBKY0iBksg4"
      },
      "source": [
        "Отмасштабируем данные."
      ]
    },
    {
      "cell_type": "code",
      "execution_count": null,
      "metadata": {
        "id": "iN9cvESQh23K"
      },
      "outputs": [],
      "source": [
        "scaler = StandardScaler()\n",
        "\n",
        "data_scal = data.copy()\n",
        "data_scal = scaler.fit_transform(data_scal)"
      ]
    },
    {
      "cell_type": "markdown",
      "metadata": {
        "id": "RBeugYClqtU1"
      },
      "source": [
        "\n",
        "## Градиентный спуск."
      ]
    },
    {
      "cell_type": "code",
      "execution_count": null,
      "metadata": {
        "id": "BCqpu-yyOGdl"
      },
      "outputs": [],
      "source": [
        "def gradient_descent(X, y, eta=1e-3):\n",
        "  \"\"\"Алгоритм градиентного спуска, завершающий работу, когда веса перестанут изменяться. Альфа неизменна\"\"\"\n",
        "\n",
        "  # начальный вектор весов\n",
        "  n_features = 2\n",
        "  w = np.zeros(n_features)\n",
        "\n",
        "\n",
        "  # список векторов весов после каждой итерации \n",
        "  \n",
        "  w[:] = 1\n",
        "  w_list = [[0] + w.copy().tolist()]\n",
        "\n",
        "\n",
        "  # список значений ошибок после каждой итерации\n",
        "  errors = []\n",
        "\n",
        "  # шаг градиентного спуска\n",
        "  eta = 0.1\n",
        "\n",
        "  # максимальное число итераций\n",
        "  max_iter = 1e3\n",
        "\n",
        "  # критерий сходимости (разница весов, при которой алгоритм останавливается)\n",
        "  min_weight_dist = 1e-8\n",
        "\n",
        "  # зададим начальную разницу весов большим числом\n",
        "  weight_dist = np.inf\n",
        "\n",
        "  # счетчик итераций\n",
        "  iter_num = 0\n",
        "\n",
        "  # ход градиентного спуска\n",
        "  while (weight_dist > min_weight_dist) and (iter_num < max_iter):\n",
        "    # новый вес w\n",
        "    new_w = w - 2 * eta * np.dot(X.T, (np.dot(X, w) - y)) / y.shape[0]\n",
        "\n",
        "    # оценка расстояния по эвклиду между старым и новым состоянием w\n",
        "    weight_dist = np.linalg.norm(new_w - w, ord=2)\n",
        "    \n",
        "    w_list.append([iter_num]+new_w.copy().tolist())\n",
        "    errors.append(mserror(X, new_w, y))\n",
        "    \n",
        "    iter_num += 1\n",
        "    w = new_w\n",
        "    \n",
        "  w_list = np.array(w_list)\n",
        "  # print('w_list', w_list)\n",
        "\n",
        "  print(f'В случае использования градиентного спуска функционал ошибки составляет {round(errors[-1], 4)}')\n",
        "\n",
        "  return w_list, errors"
      ]
    },
    {
      "cell_type": "code",
      "execution_count": null,
      "metadata": {
        "id": "J-iVqOkPtPec",
        "outputId": "3dd21298-72ba-4f62-839d-a62139340d57"
      },
      "outputs": [
        {
          "name": "stdout",
          "output_type": "stream",
          "text": [
            "В случае использования градиентного спуска функционал ошибки составляет 38.5683\n",
            "w = [99.         61.43607082 67.66544975]\n"
          ]
        },
        {
          "data": {
            "image/png": "[encoded data removed]",
            "text/plain": [
              "<Figure size 720x432 with 1 Axes>"
            ]
          },
          "metadata": {
            "needs_background": "light"
          },
          "output_type": "display_data"
        }
      ],
      "source": [
        "w_gd, errors_gd = gradient_descent(data_scal, target)\n",
        "\n",
        "plt.figure(figsize = (10, 6))\n",
        "\n",
        "plt.plot(range(len(errors_gd)), errors_gd, c='r', label='градиентный спуск')\n",
        "\n",
        "plt.xlim(0, 100)\n",
        "plt.title('MSE', size=20)\n",
        "plt.legend(loc='best')\n",
        "plt.xlabel('iterations')\n",
        "plt.ylabel('MSE')\n",
        "\n",
        "print('w =', w_gd[-1])"
      ]
    },
    {
      "cell_type": "markdown",
      "metadata": {
        "id": "_kjypQP9qyaD"
      },
      "source": [
        "## Стохастический градиентный спуск."
      ]
    },
    {
      "cell_type": "code",
      "execution_count": null,
      "metadata": {
        "id": "3J4gVLzfq4bz"
      },
      "outputs": [],
      "source": [
        "def stohastic_gradient_descent(X, y, eta=1e-3):\n",
        "  \"\"\"Алгоритм стохастического градиентного спуска, завершающий работу, когда веса перестанут изменяться. Альфа неизменна\"\"\"\n",
        "\n",
        "  # начальный вектор весов\n",
        "  n_features = 2\n",
        "  w = np.zeros(n_features)\n",
        "\n",
        "  # список векторов весов после каждой итерации \n",
        "  \n",
        "  w[:] = 1\n",
        "  # w_list = [[0] + w.copy().tolist()]\n",
        "  w_list = [w.copy()]\n",
        "\n",
        "\n",
        "  # список значений ошибок после каждой итерации\n",
        "  errors = []\n",
        "\n",
        "  # шаг градиентного спуска\n",
        "  eta = 0.1\n",
        "\n",
        "  # максимальное число итераций\n",
        "  max_iter = 1e5\n",
        "\n",
        "  # критерий сходимости (разница весов, при которой алгоритм останавливается)\n",
        "  min_weight_dist = 1e-8\n",
        "\n",
        "  # зададим начальную разницу весов большим числом\n",
        "  weight_dist = np.inf\n",
        "\n",
        "  # счетчик итераций\n",
        "  iter_num = 0\n",
        "  lamb = 0.01 \n",
        "  np.random.seed(1234)\n",
        "\n",
        "  Q = [mserror(X, w, y)] \n",
        "\n",
        "  # ход градиентного спуска\n",
        "  while (weight_dist > min_weight_dist) and (iter_num < max_iter):\n",
        "\n",
        "    # генерируем случайный индекс объекта выборки\n",
        "    train_ind = np.random.randint(X.shape[0])\n",
        "\n",
        "    # новый вес w\n",
        "    new_w = w - 2 * eta * np.dot(X[train_ind].T, (np.dot(X[train_ind], w) - y[train_ind])) / y.shape[0]\n",
        "    # new_w = w - 2 * eta /(0+1) * np.dot(X[train_ind].T, (np.dot(X[train_ind], w) - y[train_ind])) / y.shape[0]\n",
        " \n",
        "    # оценка расстояния по эвклиду между старым и новым состоянием w\n",
        "    weight_dist = np.linalg.norm(new_w - w, ord=2)\n",
        "  \n",
        "    \n",
        "    # w_list.append([iter_num] + new_w.copy().tolist())\n",
        "    w_list.append(new_w.copy())\n",
        "    errors.append(mserror(X, new_w, y))    \n",
        "    \n",
        "    Q.append(Q[-1] * (1 - lamb) + lamb * (np.dot(X[train_ind], w) - y[train_ind])**2)\n",
        "    iter_num += 1\n",
        "    w = new_w\n",
        "    \n",
        "  w_list = np.array(w_list)\n",
        "  # print('w_list', w_list)\n",
        "\n",
        "  print(f'В случае использования стохастического градиентного спуска функционал ошибки составляет {round(errors[-1], 4)}')\n",
        "\n",
        "  return w_list, errors, Q"
      ]
    },
    {
      "cell_type": "code",
      "execution_count": null,
      "metadata": {
        "id": "DWm98dfttBc-",
        "outputId": "31e0b6f4-ae30-42fe-cc55-eead3cbfe758"
      },
      "outputs": [
        {
          "name": "stdout",
          "output_type": "stream",
          "text": [
            "В случае использования стохастического градиентного спуска функционал ошибки составляет 38.5728\n",
            "w = [61.37315105 67.64052769]\n"
          ]
        },
        {
          "data": {
            "image/png": "[encoded data removed]",
            "text/plain": [
              "<Figure size 720x432 with 1 Axes>"
            ]
          },
          "metadata": {
            "needs_background": "light"
          },
          "output_type": "display_data"
        }
      ],
      "source": [
        "w_sgd, errors_sgd, Q_sqd = stohastic_gradient_descent(data_scal, target)\n",
        "\n",
        "plt.figure(figsize = (10, 6))\n",
        "\n",
        "plt.plot(range(len(errors_sgd)), errors_sgd, c='#0CA4A5', label='стохастический градиентный спуск')\n",
        "plt.xlim(0, 10000)\n",
        "plt.title('MSE', size=20)\n",
        "plt.legend(loc='best')\n",
        "plt.xlabel('iterations')\n",
        "plt.ylabel('MSE')\n",
        "\n",
        "print('w =', w_sgd[-1])"
      ]
    },
    {
      "cell_type": "markdown",
      "metadata": {
        "id": "AdFs18YMBTNb"
      },
      "source": [
        "Как и ожидалось скорость сходимости градиентного спуска выше, чем стохастического градиентного."
      ]
    },
    {
      "cell_type": "markdown",
      "metadata": {
        "id": "AY5dZMzz8z-a"
      },
      "source": [
        "# Задание 2.\n",
        "\n",
        "\n",
        "Модифицировать решение первого задания путем добавления $L_{2}$-регуляризации (в функцию, считающую MSE добавить норму весов, а в поправку нужно добавить производную для нормы вектора весов по весам) и сравнить результаты."
      ]
    },
    {
      "cell_type": "markdown",
      "metadata": {
        "id": "4rEXPTSr0udL"
      },
      "source": [
        "## Gradient"
      ]
    },
    {
      "cell_type": "code",
      "execution_count": null,
      "metadata": {
        "colab": {
          "background_save": true
        },
        "id": "679g6ZyokRT8"
      },
      "outputs": [],
      "source": [
        "def gradient_descent_L2(X, y, eta=1e-3, q=30/100):\n",
        "\n",
        "  w = np.random.randn(X.shape[1])\n",
        "  w_list = [w.copy()]\n",
        "  errors = []\n",
        "  max_iter = 1e3\n",
        "  min_weight_dist = 1e-8\n",
        "\n",
        "  \n",
        "  weight_dist = np.inf\n",
        "\n",
        "  iter_num = 0  \n",
        "\n",
        "  while (weight_dist > min_weight_dist) and (iter_num < max_iter):\n",
        "  \n",
        "    new_w = w - 2 * eta * (np.dot(X.T, (np.dot(X, w) - y))) / y.shape[0] - (2 * q * w)\n",
        "    \n",
        "    weight_dist = np.linalg.norm(new_w - w, ord=2)\n",
        "\n",
        "    w_list.append(new_w.copy())\n",
        "    errors.append(mserror(X, new_w, y))\n",
        "    \n",
        "    iter_num += 1\n",
        "    w = new_w\n",
        "    \n",
        "  w_list = np.array(w_list)\n",
        "\n",
        "  print(f'В случае использования градиентного спуска c L2 регуляризацией функционал ошибки составляет {round(errors[-1], 4)}')\n",
        "\n",
        "  return w_list, errors"
      ]
    },
    {
      "cell_type": "code",
      "execution_count": null,
      "metadata": {
        "id": "WUgjI01wtPeh",
        "outputId": "da9a3c3c-20cd-4a63-ff28-d714704821d4"
      },
      "outputs": [
        {
          "name": "stdout",
          "output_type": "stream",
          "text": [
            "В случае использования градиентного спуска c L2 регуляризацией функционал ошибки составляет 39.4069\n",
            "w =  [60.81141054 66.98055324]\n"
          ]
        },
        {
          "data": {
            "image/png": "[encoded data removed]",
            "text/plain": [
              "<Figure size 720x432 with 1 Axes>"
            ]
          },
          "metadata": {
            "needs_background": "light"
          },
          "output_type": "display_data"
        }
      ],
      "source": [
        "w_dg_L2, errors_gd_L2 = gradient_descent_L2(data_scal, target, eta=0.01, q=1e-4)\n",
        "\n",
        "plt.figure(figsize = (10, 6))\n",
        "\n",
        "plt.plot(range(len(errors_gd_L2)), errors_gd_L2, c='r', label='градиентный спуск + L2')\n",
        "plt.xlim(0, 250)\n",
        "plt.title('MSE', size=20)\n",
        "plt.legend(loc='best')\n",
        "plt.xlabel('iterations')\n",
        "plt.ylabel('MSE')\n",
        "\n",
        "print('w = ', w_dg_L2[-1])"
      ]
    },
    {
      "cell_type": "markdown",
      "metadata": {
        "id": "V0N6diZQ5wLE"
      },
      "source": [
        "## Stohastic gradient"
      ]
    },
    {
      "cell_type": "code",
      "execution_count": null,
      "metadata": {
        "id": "yNW80SsgEJ0F"
      },
      "outputs": [],
      "source": [
        "def stohastic_gradient_descent_L2(X, y, eta=1e-3, q=30/100, lamb=0.01):\n",
        "  \n",
        "  w = np.random.randn(data_scal.shape[1])\n",
        "\n",
        "  w_list = [w.copy().T] \n",
        "  errors = []\n",
        "   \n",
        "  max_iter = 1e2\n",
        " \n",
        "  min_weight_dist = 1e-8\n",
        " \n",
        "  weight_dist = np.inf\n",
        " \n",
        "  iter_num = 0\n",
        "#   lamb = 0.01 \n",
        "  \n",
        "  np.random.seed(1234)\n",
        "\n",
        "  Q = [mserror(X, w, y)]\n",
        "\n",
        "  while weight_dist > min_weight_dist and iter_num < max_iter:\n",
        "    \n",
        "    \n",
        "    train_ind = np.random.randint(X.shape[0])\n",
        "    \n",
        "    dQ = np.dot(X[train_ind].T, (np.dot(X[train_ind], w) - y[train_ind]))\n",
        "    dL2 = 2 * w\n",
        "    \n",
        "    new_w = w - 2 * eta * dQ / y.shape[0] - q * dL2\n",
        "     \n",
        "    weight_dist = np.linalg.norm(new_w - w, ord=2)\n",
        "\n",
        "    w_list.append(new_w.copy())\n",
        "    errors.append(mserror(X, new_w, y))\n",
        "\n",
        "    \n",
        "    Q.append(Q[-1] * (1 - lamb) + lamb * (np.dot(X[train_ind], w) - y[train_ind])**2)\n",
        "    \n",
        "    iter_num += 1\n",
        "    w = new_w\n",
        "    \n",
        "  w_list = np.array(w_list)\n",
        " \n",
        "  print(f'В случае использования стохастического градиентного спуска с использованием регуляризации функционал ошибки составляет {round(errors[-1], 4)}')\n",
        "\n",
        "\n",
        "  return w_list, errors, Q"
      ]
    },
    {
      "cell_type": "code",
      "execution_count": null,
      "metadata": {
        "colab": {
          "base_uri": "https://localhost:8080/",
          "height": 430
        },
        "id": "iGhxQCXLs70g",
        "outputId": "5d930310-793f-46d3-dc68-2a4df73e6295"
      },
      "outputs": [
        {
          "name": "stdout",
          "output_type": "stream",
          "text": [
            "В случае использования стохастического градиентного спуска с использованием регуляризации функционал ошибки составляет 40.1501\n",
            "w =  [62.51045201 68.3458325 ]\n"
          ]
        },
        {
          "data": {
            "image/png": "[encoded data removed]",
            "text/plain": [
              "<Figure size 720x432 with 1 Axes>"
            ]
          },
          "metadata": {
            "needs_background": "light"
          },
          "output_type": "display_data"
        }
      ],
      "source": [
        "w_sgd_L2, errors_sgd_L2, Q_sqd_L2 = stohastic_gradient_descent_L2(data_scal, target, eta=50, q=1e-4)\n",
        "\n",
        "plt.figure(figsize = (10, 6))\n",
        "plt.plot(range(len(errors_sgd_L2)), errors_sgd_L2, c='g', label='стохастический градиентный спуск + L2')\n",
        "plt.xlim(0, 100)\n",
        "plt.title('MSE', size=20)\n",
        "plt.legend(loc='best')\n",
        "plt.xlabel('iterations')\n",
        "plt.ylabel('MSE')\n",
        "\n",
        "print('w = ', w_sgd_L2[-1])"
      ]
    },
    {
      "cell_type": "markdown",
      "source": [
        "Возможно что-то сделано не так. Но сходимость стохастического градиентного спуска ухудшилась. Фактически только большие значения шага приводили к удовлетворительным результатам."
      ],
      "metadata": {
        "id": "6OobxzFltW0r"
      }
    },
    {
      "cell_type": "code",
      "execution_count": null,
      "metadata": {
        "id": "L2opXQdNtPek"
      },
      "outputs": [],
      "source": [
        "# eta_bf = [50, 0.1, 0.01, 0.001, 0.0001, 0.00001, 0.000001]\n",
        "# q_bf = [50, 0.1, 0.01, 0.001, 0.0001, 0.00001, 0.000001]\n",
        "# lamb_bf = [50, 0.1, 0.01, 0.001, 0.0001, 0.00001, 0.000001]\n",
        "\n",
        "\n",
        "# for i in eta_bf:\n",
        "#     for k in q_bf:\n",
        "#         for l in lamb_bf:\n",
        "#             print(f'eta = {i}, q = {k}, lamb = {l}')\n",
        "#             w_sgd_L2, errors_sgd_L2, Q_sqd_L2 = stohastic_gradient_descent_L2(data_scal, target, eta=i, q=k)\n",
        "#             print('w = ', w_sgd_L2[-1])\n",
        "    "
      ]
    }
  ],
  "metadata": {
    "colab": {
      "collapsed_sections": [
        "V0N6diZQ5wLE"
      ],
      "name": "DA_algorithms_hw_2.ipynb",
      "provenance": [],
      "include_colab_link": true
    },
    "kernelspec": {
      "display_name": "Python 3",
      "language": "python",
      "name": "python3"
    },
    "language_info": {
      "codemirror_mode": {
        "name": "ipython",
        "version": 3
      },
      "file_extension": ".py",
      "mimetype": "text/x-python",
      "name": "python",
      "nbconvert_exporter": "python",
      "pygments_lexer": "ipython3",
      "version": "3.8.8"
    }
  },
  "nbformat": 4,
  "nbformat_minor": 0
}