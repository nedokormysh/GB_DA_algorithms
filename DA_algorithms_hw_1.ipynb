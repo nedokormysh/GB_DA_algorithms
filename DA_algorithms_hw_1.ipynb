{
  "nbformat": 4,
  "nbformat_minor": 0,
  "metadata": {
    "colab": {
      "name": "DA_algorithms_hw_1.ipynb",
      "provenance": [],
      "collapsed_sections": [],
      "authorship_tag": "ABX9TyNwafYiv1/FAOB2mZm7YeAb",
      "include_colab_link": true
    },
    "kernelspec": {
      "name": "python3",
      "display_name": "Python 3"
    },
    "language_info": {
      "name": "python"
    }
  },
  "cells": [
    {
      "cell_type": "markdown",
      "metadata": {
        "id": "view-in-github",
        "colab_type": "text"
      },
      "source": [
        "<a href=\"https://colab.research.google.com/github/nedokormysh/GB_DA_algorithms/blob/lesson1/DA_algorithms_hw_1.ipynb\" target=\"_parent\"><img src=\"https://colab.research.google.com/assets/colab-badge.svg\" alt=\"Open In Colab\"/></a>"
      ]
    },
    {
      "cell_type": "markdown",
      "source": [
        "__Задача:__ предсказание баллов ЕГЭ ученика в зависимости от количества лет стажа его репетитора"
      ],
      "metadata": {
        "id": "rXA-L8T0QyCM"
      }
    },
    {
      "cell_type": "code",
      "execution_count": 1,
      "metadata": {
        "id": "Ov7DD3pzZa3W"
      },
      "outputs": [],
      "source": [
        "import numpy as np\n",
        "import matplotlib.pyplot as plt"
      ]
    },
    {
      "cell_type": "code",
      "source": [
        "X = np.array([[1, 1, 1, 1, 1, 1, 1, 1, 1, 1],\n",
        "              [1, 1, 2, 5, 3, 0, 5, 10, 1, 2]])\n",
        "X"
      ],
      "metadata": {
        "id": "dpQLb0M5Zq72",
        "colab": {
          "base_uri": "https://localhost:8080/"
        },
        "outputId": "4f1eb311-e066-46cb-f808-312f7286b57d"
      },
      "execution_count": 2,
      "outputs": [
        {
          "output_type": "execute_result",
          "data": {
            "text/plain": [
              "array([[ 1,  1,  1,  1,  1,  1,  1,  1,  1,  1],\n",
              "       [ 1,  1,  2,  5,  3,  0,  5, 10,  1,  2]])"
            ]
          },
          "metadata": {},
          "execution_count": 2
        }
      ]
    },
    {
      "cell_type": "code",
      "source": [
        "y = [45, 55, 50, 55, 60, 35, 75, 80, 50, 60]"
      ],
      "metadata": {
        "id": "TLbZWipGZ--P"
      },
      "execution_count": 3,
      "outputs": []
    },
    {
      "cell_type": "code",
      "source": [
        "y_pred1 = 35 * np.ones(10) + X[1]*5\n",
        "y_pred2 = 40 * np.ones(10) + X[1]*7.5\n",
        "\n",
        "plt.scatter(X[1], y)\n",
        "plt.plot(X[1], y_pred1, label='1')\n",
        "plt.plot(X[1], y_pred2, label='2')\n",
        "plt.legend()\n",
        "plt.show()"
      ],
      "metadata": {
        "colab": {
          "base_uri": "https://localhost:8080/",
          "height": 265
        },
        "id": "AxoYIy0taDSu",
        "outputId": "97b3fa42-cea6-4872-c907-fe87e41f176e"
      },
      "execution_count": 4,
      "outputs": [
        {
          "output_type": "display_data",
          "data": {
            "text/plain": [
              "<Figure size 432x288 with 1 Axes>"
            ],
            "image/png": "[encoded data removed]"
          },
          "metadata": {
            "needs_background": "light"
          }
        }
      ]
    },
    {
      "cell_type": "code",
      "source": [
        "def calc_mae(y, y_pred):\n",
        "    err = np.mean(np.abs(y - y_pred))\n",
        "    return err\n",
        "\n",
        "def calc_mse(y, y_pred):\n",
        "    err = np.mean((y - y_pred)**2)\n",
        "    return err"
      ],
      "metadata": {
        "id": "_E9VomjzRRYU"
      },
      "execution_count": 5,
      "outputs": []
    },
    {
      "cell_type": "markdown",
      "source": [
        "# Задание 1.\n",
        "\n",
        "Подберите скорость обучения (alpha) и количество итераций."
      ],
      "metadata": {
        "id": "B_y4pUyXRgGD"
      }
    },
    {
      "cell_type": "markdown",
      "source": [
        "Насколько понял задание: требуется подобрать скорость обучения при которой получаем минимальное значение ошибки за минимальное количество итераций."
      ],
      "metadata": {
        "id": "2WZIe5GUH1CG"
      }
    },
    {
      "cell_type": "code",
      "source": [
        "def alpha_iter_search(X, alpha=1e-2, n_iter=100):\n",
        "  \"\"\"Алгоритм градиентного спуска, завершающий работу по превышению количества итераций\n",
        "       Альфа неизменна\"\"\"\n",
        "  n = X.shape[1]\n",
        "  W = np.array([1, .5])\n",
        "  print(f'Number of objects = {n} \\\n",
        "       \\nLearning rate = {alpha} \\\n",
        "       \\nInitial weights = {W} \\n')\n",
        "\n",
        "  for i in range(n_iter):\n",
        "        y_pred = np.dot(W, X)\n",
        "        err = calc_mse(y, y_pred)\n",
        "        for k in range(len(W)):\n",
        "            W[k] -= alpha * (1/n * 2 * np.sum(X[k] * (y_pred - y)))\n",
        "        if i % 50 == 0:\n",
        "            # alpha /= 1.1\n",
        "            print(f'Iteration #{i} W_new = {W}, MSE = {round(err, 2)}')\n",
        "\n",
        "alpha_iter_search(X, alpha=0.05, n_iter=300)\n",
        "\n",
        "print('Подобранный вариант скорости обучения = 0.05')"
      ],
      "metadata": {
        "colab": {
          "base_uri": "https://localhost:8080/"
        },
        "id": "4PV3RPiebbcs",
        "outputId": "f06e75fb-0d01-4538-9d3c-f5374dba4904"
      },
      "execution_count": 6,
      "outputs": [
        {
          "output_type": "stream",
          "name": "stdout",
          "text": [
            "Number of objects = 10        \n",
            "Learning rate = 0.05        \n",
            "Initial weights = [1.  0.5] \n",
            "\n",
            "Iteration #0 W_new = [ 6.4  19.35], MSE = 3047.75\n",
            "Iteration #50 W_new = [41.16920131  4.51849616], MSE = 51.81\n",
            "Iteration #100 W_new = [44.68506002  3.88094292], MSE = 44.04\n",
            "Iteration #150 W_new = [45.02590869  3.81913527], MSE = 43.97\n",
            "Iteration #200 W_new = [45.05895262  3.81314326], MSE = 43.97\n",
            "Iteration #250 W_new = [45.0621561   3.81256236], MSE = 43.97\n",
            "Подобранный вариант скорости обучения = 0.05\n"
          ]
        }
      ]
    },
    {
      "cell_type": "markdown",
      "source": [
        "Изначально просто подбирал параметры обычным перебором. И затем смотрел наиболее быстрый вариант, исходя из количества итераций."
      ],
      "metadata": {
        "id": "F9Uxim5GJkfC"
      }
    },
    {
      "cell_type": "code",
      "source": [
        "def tol_stop(alpha, n, X):\n",
        "\n",
        "    err = np.inf\n",
        "    err_last = 0\n",
        "    iter = 0\n",
        "    tol = abs(err - err_last)    \n",
        "    eps = 0.1\n",
        "    W = np.array([1, .5])\n",
        "    errors = []\n",
        "    counts = []\n",
        "\n",
        "\n",
        "    while tol > eps:\n",
        "        y_pred = np.dot(W, X)\n",
        "        err_last = err\n",
        "        errors.append(err)\n",
        "        err = calc_mse(y, y_pred)\n",
        "        for k in range(len(W)):\n",
        "            W[k] -= alpha * (1 / n * 2 * np.sum(X[k] * (y_pred - y)))\n",
        "        \n",
        "        if err == np.inf:\n",
        "            break\n",
        "\n",
        "        tol = abs(err - err_last)        \n",
        "        iter += 1\n",
        "        counts.append(iter)\n",
        "\n",
        "    if(len(counts) != len(errors)):\n",
        "      pass\n",
        "    else:\n",
        "      plt.plot(counts, errors)\n",
        "      # plt.title('MSE')\n",
        "      plt.xlabel('iterations')\n",
        "      plt.ylabel('MSE')\n",
        "      # plt.legend()\n",
        "      plt.show()\n",
        "\n",
        "    return f'MSE = {round(err, 2)}, количество итераций = {iter}'\n",
        "\n",
        "\n",
        "def alpha_iter_search_bf(X):\n",
        "  X_ = X.copy()\n",
        "  n = X.shape[1]\n",
        "  \n",
        "  \n",
        "  for i in range(1, 8, 1):\n",
        "    alpha = i / 100\n",
        "    print(f'alpha = {alpha}')\n",
        "\n",
        "    print(tol_stop(alpha, n, X_))    \n",
        "  \n",
        "\n",
        "alpha_iter_search_bf(X)"
      ],
      "metadata": {
        "colab": {
          "base_uri": "https://localhost:8080/",
          "height": 1000
        },
        "id": "VCsOXYEn9oWH",
        "outputId": "5f858e26-29a3-4422-da0b-9c63ac722b5b"
      },
      "execution_count": 34,
      "outputs": [
        {
          "output_type": "stream",
          "name": "stdout",
          "text": [
            "alpha = 0.01\n"
          ]
        },
        {
          "output_type": "display_data",
          "data": {
            "text/plain": [
              "<Figure size 432x288 with 1 Axes>"
            ],
            "image/png": "[encoded data removed]"
          },
          "metadata": {
            "needs_background": "light"
          }
        },
        {
          "output_type": "stream",
          "name": "stdout",
          "text": [
            "MSE = 49.37, количество итераций = 276\n",
            "alpha = 0.02\n"
          ]
        },
        {
          "output_type": "display_data",
          "data": {
            "text/plain": [
              "<Figure size 432x288 with 1 Axes>"
            ],
            "image/png": "[encoded data removed]"
          },
          "metadata": {
            "needs_background": "light"
          }
        },
        {
          "output_type": "stream",
          "name": "stdout",
          "text": [
            "MSE = 46.54, количество итераций = 158\n",
            "alpha = 0.03\n"
          ]
        },
        {
          "output_type": "display_data",
          "data": {
            "text/plain": [
              "<Figure size 432x288 with 1 Axes>"
            ],
            "image/png": "[encoded data removed]"
          },
          "metadata": {
            "needs_background": "light"
          }
        },
        {
          "output_type": "stream",
          "name": "stdout",
          "text": [
            "MSE = 45.64, количество итераций = 113\n",
            "alpha = 0.04\n"
          ]
        },
        {
          "output_type": "display_data",
          "data": {
            "text/plain": [
              "<Figure size 432x288 with 1 Axes>"
            ],
            "image/png": "[encoded data removed]"
          },
          "metadata": {
            "needs_background": "light"
          }
        },
        {
          "output_type": "stream",
          "name": "stdout",
          "text": [
            "MSE = 45.17, количество итераций = 89\n",
            "alpha = 0.05\n"
          ]
        },
        {
          "output_type": "display_data",
          "data": {
            "text/plain": [
              "<Figure size 432x288 with 1 Axes>"
            ],
            "image/png": "[encoded data removed]"
          },
          "metadata": {
            "needs_background": "light"
          }
        },
        {
          "output_type": "stream",
          "name": "stdout",
          "text": [
            "MSE = 44.97, количество итераций = 73\n",
            "alpha = 0.06\n",
            "MSE = inf, количество итераций = 3496\n",
            "alpha = 0.07\n",
            "MSE = inf, количество итераций = 932\n"
          ]
        },
        {
          "output_type": "stream",
          "name": "stderr",
          "text": [
            "/usr/local/lib/python3.7/dist-packages/numpy/core/_methods.py:179: RuntimeWarning: overflow encountered in reduce\n",
            "  ret = umr_sum(arr, axis, dtype, out, keepdims, where=where)\n",
            "/usr/local/lib/python3.7/dist-packages/ipykernel_launcher.py:6: RuntimeWarning: overflow encountered in square\n",
            "  \n"
          ]
        }
      ]
    },
    {
      "cell_type": "markdown",
      "source": [
        "# Задание 2.\n",
        "\n",
        "В этом коде мы избавляемся от итераций по весам, но тут есть ошибка, исправьте ее."
      ],
      "metadata": {
        "id": "zEi2HyZZzMcI"
      }
    },
    {
      "cell_type": "markdown",
      "source": [
        "## Исходный нерабочий код"
      ],
      "metadata": {
        "id": "SvrLv-bS0M2T"
      }
    },
    {
      "cell_type": "code",
      "source": [
        "# исходный код\n",
        "\n",
        "n = X.shape[1]\n",
        "alpha = 1e-2\n",
        "W = np.array([1, 0.5])\n",
        "print(f'Number of objects = {n} \\\n",
        "       \\nLearning rate = {alpha} \\\n",
        "       \\nInitial weights = {W} \\n')\n",
        "\n",
        "for i in range(100):\n",
        "    y_pred = np.dot(W, X)\n",
        "    err = calc_mse(y, y_pred)\n",
        "    #for k in range(W.shape[0]):\n",
        "    #     W[k] -= alpha * (1/n * 2 * np.sum(X[k] * (y_pred - y)))\n",
        "    W -= alpha * (1 / n * 2 * np.sum(X * (y_pred - y)))\n",
        "    W_pred = W\n",
        "    \n",
        "    if i % 10 == 0:\n",
        "        \n",
        "        print(f'Iteration #{i}: W_new = {W}, MSE = {round(err,2)}')"
      ],
      "metadata": {
        "colab": {
          "base_uri": "https://localhost:8080/"
        },
        "id": "4NyBNvOizcXH",
        "outputId": "755b02b6-ae40-4b30-d8f2-00505384d3de"
      },
      "execution_count": null,
      "outputs": [
        {
          "output_type": "stream",
          "name": "stdout",
          "text": [
            "Number of objects = 10        \n",
            "Learning rate = 0.01        \n",
            "Initial weights = [1.  0.5] \n",
            "\n",
            "Iteration #0: W_new = [5.85 5.35], MSE = 3047.75\n",
            "Iteration #10: W_new = [11.0965715 10.5965715], MSE = 597.49\n",
            "Iteration #20: W_new = [11.10415569 10.60415569], MSE = 597.49\n",
            "Iteration #30: W_new = [11.10416665 10.60416665], MSE = 597.49\n",
            "Iteration #40: W_new = [11.10416667 10.60416667], MSE = 597.49\n",
            "Iteration #50: W_new = [11.10416667 10.60416667], MSE = 597.49\n",
            "Iteration #60: W_new = [11.10416667 10.60416667], MSE = 597.49\n",
            "Iteration #70: W_new = [11.10416667 10.60416667], MSE = 597.49\n",
            "Iteration #80: W_new = [11.10416667 10.60416667], MSE = 597.49\n",
            "Iteration #90: W_new = [11.10416667 10.60416667], MSE = 597.49\n"
          ]
        }
      ]
    },
    {
      "cell_type": "markdown",
      "source": [
        "## Исправленный код."
      ],
      "metadata": {
        "id": "Vni0drFv0Rlm"
      }
    },
    {
      "cell_type": "code",
      "source": [
        "n = X.shape[1]\n",
        "alpha = 1e-2\n",
        "W = np.array([1, 0.5])\n",
        "print(f'Number of objects = {n} \\\n",
        "       \\nLearning rate = {alpha} \\\n",
        "       \\nInitial weights = {W} \\n')\n",
        "\n",
        "for i in range(750):\n",
        "    y_pred = np.dot(W, X)\n",
        "    err = calc_mse(y, y_pred)\n",
        "    \n",
        "    W -= alpha * (1 / n * 2 * np.sum(X * (y_pred - y), axis=1)) # обозначили ось, по которой суммируем\n",
        "    W_pred = W\n",
        "    \n",
        "    if i % 100 == 0:        \n",
        "        print(f'Iteration #{i}: W_new = {W}, MSE = {round(err,2)}')"
      ],
      "metadata": {
        "colab": {
          "base_uri": "https://localhost:8080/"
        },
        "id": "yxt82uS50X1a",
        "outputId": "ec5a521e-30c7-4e43-a865-a06032c02d32"
      },
      "execution_count": null,
      "outputs": [
        {
          "output_type": "stream",
          "name": "stdout",
          "text": [
            "Number of objects = 10        \n",
            "Learning rate = 0.01        \n",
            "Initial weights = [1.  0.5] \n",
            "\n",
            "Iteration #0: W_new = [2.08 4.27], MSE = 3047.75\n",
            "Iteration #100: W_new = [28.38281518  6.83710367], MSE = 177.43\n",
            "Iteration #200: W_new = [38.38986469  5.02247953], MSE = 65.33\n",
            "Iteration #300: W_new = [42.39314129  4.29654705], MSE = 47.39\n",
            "Iteration #400: W_new = [43.99463466  4.00614091], MSE = 44.52\n",
            "Iteration #500: W_new = [44.63530512  3.8899652 ], MSE = 44.06\n",
            "Iteration #600: W_new = [44.89160255  3.84348962], MSE = 43.98\n",
            "Iteration #700: W_new = [44.99413322  3.82489726], MSE = 43.97\n"
          ]
        }
      ]
    },
    {
      "cell_type": "markdown",
      "source": [
        "# Задание 3.\n",
        "Вместо того, чтобы задавать количество итераций, задайте условие остановки алгоритма - когда ошибка за итерацию начинает изменяться ниже определенного порога (упрощенный аналог параметра tol в линейной регрессии в sklearn)."
      ],
      "metadata": {
        "id": "A1MTUFasph9R"
      }
    },
    {
      "cell_type": "markdown",
      "source": [
        "Собственно это уже делал в первом задании."
      ],
      "metadata": {
        "id": "lZOhp5GFII7e"
      }
    },
    {
      "cell_type": "code",
      "source": [
        "def gradient_descent2(X, y, alpha=1e-3):\n",
        "    \"\"\"Алгоритм градиентного спуска, завершающий работу, когда ошибка перестаёт изменяться\n",
        "       Альфа неизменна\"\"\"\n",
        "\n",
        "    err = np.inf\n",
        "    err_last = 0\n",
        "    iter = 0\n",
        "    tol = abs(err - err_last)\n",
        "    W = np.array([1, 0.5])    \n",
        "    eps = 0.00001\n",
        "    n = X.shape[1]\n",
        "\n",
        "\n",
        "    while tol > eps:\n",
        "        y_pred = np.dot(W, X)\n",
        "        err_last = err\n",
        "        err = calc_mse(y, y_pred)\n",
        "        for k in range(len(W)):\n",
        "            W[k] -= alpha * (1 / n * 2 * np.sum(X[k] * (y_pred - y)))\n",
        "        \n",
        "        if err == np.inf:\n",
        "            break\n",
        "        tol = abs(err - err_last)        \n",
        "        iter += 1\n",
        "\n",
        "    return f'Заданная точность = {eps}. При alpha = {alpha} количество итераций, которое потребовалось для нахождения минимума = {iter}: W_new = {W}, MSE = {err}'\n",
        "        \n",
        "        \n",
        "print(gradient_descent2(X, y, alpha=0.0001))\n",
        "print(gradient_descent2(X, y, alpha=0.001))\n",
        "print(gradient_descent2(X, y, alpha=0.01))"
      ],
      "metadata": {
        "colab": {
          "base_uri": "https://localhost:8080/"
        },
        "id": "oNtzLl2Nphos",
        "outputId": "3cfb4bb0-aa50-457e-a765-c167ea4c4e93"
      },
      "execution_count": 32,
      "outputs": [
        {
          "output_type": "stream",
          "name": "stdout",
          "text": [
            "Заданная точность = 1e-05. При alpha = 0.0001 количество итераций, которое потребовалось для нахождения минимума = 52795: W_new = [44.72139132  3.8743548 ], MSE = 44.02356215125962\n",
            "Заданная точность = 1e-05. При alpha = 0.001 количество итераций, которое потребовалось для нахождения минимума = 6541: W_new = [44.95481392  3.83202721], MSE = 43.974221718293954\n",
            "Заданная точность = 1e-05. При alpha = 0.01 количество итераций, которое потребовалось для нахождения минимума = 779: W_new = [45.02904272  3.81856696], MSE = 43.96928697128659\n"
          ]
        }
      ]
    },
    {
      "cell_type": "markdown",
      "source": [
        "# Задание 4.\n",
        "\n",
        "Сделайте выводы по результатам работы с GD : что повышает качество результата, что понижает."
      ],
      "metadata": {
        "id": "_IPvVTZEywng"
      }
    },
    {
      "cell_type": "markdown",
      "source": [
        "В моём случае, на алгоритм GD скорость обучения оказывала сильное влияние на результаты. В зависимости от выбора этого параметра требовалось значительное изменение количества итераций для выхода на \"полку\".\n",
        "Также точность измерения влияла на результаты, если увеличивать точность измерений, (т.е. уменьшать остановку рассчётов, в зависимости от разницы между ошибками), то некоторые варианты выдавали ошибку переполнения."
      ],
      "metadata": {
        "id": "xVLCk0zey2E7"
      }
    }
  ]
}